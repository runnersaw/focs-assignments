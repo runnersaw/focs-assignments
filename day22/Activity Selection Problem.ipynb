{
 "cells": [
  {
   "cell_type": "markdown",
   "metadata": {},
   "source": [
    "# Activity Selection\n",
    "The activity selection problem (or, BOW course selection problem) is to select the greatest number of non-overlapping activities, where each activity has a start and an end time.\n",
    "\n",
    "Contrary to what I said in class, there *is* a greedy algorithm for activity selection that finds the optimal solution. The key is to sort activities by their *end* times, not their *start* times. (More below.)\n",
    "\n",
    "The *weighted* activity selection problem assigns a different weight to each activity.\n",
    "Weighted activity selection is not amenable to a greedy algorithm, but it is a candidate for dynamic programming.\n",
    "\n",
    "Gratifyingly, the bottom-up dynamic programming implementation to weighted activity selection is the same as what I sketched in class. That's fleshed out below, in section II **Dynamic Programming**.\n",
    "\n",
    "References:\n",
    "* [Activity selection problem (Wikipedia](https://en.wikipedia.org/wiki/Activity_selection_problem)\n",
    "* [Dynamic Programming (PPT)](http://www.cs.princeton.edu/~wayne/cs423/lectures/dynamic-programming-4up.pdf), Kevin Wayne, COS 423 Analysis of Algorithms Lectures, Spring 2001\n",
    "* *Introduction to Algorithms*, CLRS. §16.2 (pp. 415-421)"
   ]
  },
  {
   "cell_type": "markdown",
   "metadata": {},
   "source": [
    "## I. Activity Selection – the greedy algorithm"
   ]
  },
  {
   "cell_type": "code",
   "execution_count": 1,
   "metadata": {
    "collapsed": false
   },
   "outputs": [
    {
     "data": {
      "text/plain": [
       "[Activity(start=0, end=6),\n",
       " Activity(start=1, end=4),\n",
       " Activity(start=3, end=5),\n",
       " Activity(start=3, end=8),\n",
       " Activity(start=4, end=7),\n",
       " Activity(start=5, end=9),\n",
       " Activity(start=6, end=10),\n",
       " Activity(start=8, end=11)]"
      ]
     },
     "execution_count": 1,
     "metadata": {},
     "output_type": "execute_result"
    }
   ],
   "source": [
    "from collections import namedtuple\n",
    "\n",
    "# An activity has a start_time and and an end_time.\n",
    "Activity = namedtuple('Activity', ['start', 'end'])\n",
    "\n",
    "# A set of activities (represented as a list) used to demonstrate the algorithms.\n",
    "\n",
    "activities = [Activity(start, end) for start, end in [(0, 6), (1, 4), (3, 5), (3, 8), (4, 7), (5, 9), (6, 10), (8, 11)]]\n",
    "activities"
   ]
  },
  {
   "cell_type": "markdown",
   "metadata": {},
   "source": [
    "The greedy activity selection algorithm repeatedly adds the best feasible activity that has the earliest end date.\n",
    "\n",
    "An activity is *feasible* if it doesn't conflict with (its times don't overlap with) any activity already in the solution.\n",
    "\n",
    "The algorithm defines the (locally) *best* activity as the activity with the earliest end time. (Not the earliest start time. This is where I went wrong – or right, depending on what point I was trying to make about greedy algorithms. :-)\n",
    "\n",
    "This algorithm works because the activity with the earliest end time conflicts with the smallest number of following activities (activities to its right). An activity A with an earlier end time could be worse than another activity B if A's start time were also earlier than B's start time, such that A conflicted with a *preceding* activity C that was compatible with B. This can't happen with our greedy left-to-right algorithm: if C had been compatible with the other activities in the solution so far, C would have already been added to the solution by the time the algorithm considered A and B, and A wouldn't have been feasible.\n",
    "\n",
    "(If you don't follow this, there's another explanation on the Wikipedia page.)"
   ]
  },
  {
   "cell_type": "code",
   "execution_count": 2,
   "metadata": {
    "collapsed": false,
    "scrolled": false
   },
   "outputs": [
    {
     "data": {
      "text/plain": [
       "[Activity(start=1, end=4), Activity(start=4, end=7), Activity(start=8, end=11)]"
      ]
     },
     "execution_count": 2,
     "metadata": {},
     "output_type": "execute_result"
    }
   ],
   "source": [
    "def greedy_activity_selection(activities):\n",
    "    solution = []\n",
    "    while True:\n",
    "        # The earliest possible start is the max end time of the activities in the current solution.\n",
    "        # Any new activity that starts earlier than this will overlap with an existing activity.\n",
    "        # (If it didn't, it would have been selected earlier.)\n",
    "        earliest_possible_start = max((activity.end for activity in solution), default=float('-inf'))\n",
    "        # (This implementation doesn't handle the case of zero-length activities. Later versions happen to.)\n",
    "        candidates = [activity\n",
    "                      for activity in activities\n",
    "                      if activity not in solution and activity.start >= earliest_possible_start]\n",
    "        best_candidate = min(candidates, key=lambda activity:activity.end, default=None)\n",
    "        if not best_candidate:\n",
    "            break\n",
    "        solution.append(best_candidate)\n",
    "    return solution\n",
    "    \n",
    "greedy_activity_selection(activities)"
   ]
  },
  {
   "cell_type": "markdown",
   "metadata": {},
   "source": [
    "The algorithm adds activities to the solution list from earliest activity to latest. This can only increase the value of `earliest_possible_start`, each time to the end date of the just-added activity. Therefore, instead of re-computing the earliest possible start each time, update it for each new activity:"
   ]
  },
  {
   "cell_type": "code",
   "execution_count": 3,
   "metadata": {
    "collapsed": false
   },
   "outputs": [
    {
     "data": {
      "text/plain": [
       "[Activity(start=1, end=4), Activity(start=4, end=7), Activity(start=8, end=11)]"
      ]
     },
     "execution_count": 3,
     "metadata": {},
     "output_type": "execute_result"
    }
   ],
   "source": [
    "def greedy_activity_selection(activities):\n",
    "    solution = []\n",
    "    earliest_possible_start = float('-inf')\n",
    "    while True:\n",
    "        candidates = [activity\n",
    "                      for activity in activities\n",
    "                      if activity not in solution and activity.start >= earliest_possible_start]\n",
    "        best_candidate = min(candidates, key=lambda activity:activity.end, default=None)\n",
    "        if not best_candidate:\n",
    "            break\n",
    "        solution.append(best_candidate)\n",
    "        earliest_possible_start = best_candidate.end\n",
    "    return solution\n",
    "    \n",
    "greedy_activity_selection(activities)"
   ]
  },
  {
   "cell_type": "markdown",
   "metadata": {},
   "source": [
    "Once `earliest_possible_start` has passed an activity's start time, that activity can never be part of the solution. Below, remove infeasible activities from the candidate set. This reduces the work for subsequent to `min`, and also sets up a later optimization."
   ]
  },
  {
   "cell_type": "code",
   "execution_count": 4,
   "metadata": {
    "collapsed": false
   },
   "outputs": [
    {
     "data": {
      "text/plain": [
       "[Activity(start=1, end=4), Activity(start=4, end=7), Activity(start=8, end=11)]"
      ]
     },
     "execution_count": 4,
     "metadata": {},
     "output_type": "execute_result"
    }
   ],
   "source": [
    "def greedy_activity_selection(activities):\n",
    "    candidates = set(activities)\n",
    "    solution = []\n",
    "    earliest_possible_start = float('-inf')\n",
    "    while True:\n",
    "        candidates = [activity\n",
    "                      for activity in candidates\n",
    "                      if activity not in solution and activity.start >= earliest_possible_start]\n",
    "        best_candidate = min(candidates, key=lambda activity:activity.end, default=None)\n",
    "        if not best_candidate:\n",
    "            break\n",
    "        solution.append(best_candidate)\n",
    "        earliest_possible_start = best_candidate.end\n",
    "    return solution\n",
    "\n",
    "greedy_activity_selection(activities)"
   ]
  },
  {
   "cell_type": "markdown",
   "metadata": {},
   "source": [
    "Instead of using `min` to look through the entire candidate set each time, sort them by end time once. Then the best candidate is always the first feasible candidate in the list."
   ]
  },
  {
   "cell_type": "code",
   "execution_count": 5,
   "metadata": {
    "collapsed": false
   },
   "outputs": [
    {
     "data": {
      "text/plain": [
       "[Activity(start=1, end=4), Activity(start=4, end=7), Activity(start=8, end=11)]"
      ]
     },
     "execution_count": 5,
     "metadata": {},
     "output_type": "execute_result"
    }
   ],
   "source": [
    "def greedy_activity_selection(activities):\n",
    "    candidates = sorted(activities, key=lambda a:a.end)  # sort increasing by end time\n",
    "    solution = []\n",
    "    earliest_possible_start = float('-inf')\n",
    "    while True:\n",
    "        candidates = [activity\n",
    "                      for activity in candidates\n",
    "                      if activity not in solution and activity.start >= earliest_possible_start]\n",
    "        if not candidates:\n",
    "            break\n",
    "        best_candidate = candidates[0]\n",
    "        solution.append(best_candidate)\n",
    "        earliest_possible_start = best_candidate.end\n",
    "    return solution\n",
    "    \n",
    "greedy_activity_selection(activities)"
   ]
  },
  {
   "cell_type": "markdown",
   "metadata": {},
   "source": [
    "Reverse the order of filter and select. Instead of filtering the candidates and then selecting the best (earliest end time), select the best candidate and then test whether it passes the filter. If it doesn't, ignore it and move onto the next one.\n",
    "\n",
    "This code uses a Python list – as an data type that can both be sorted like a list and popped like an array – like an implementation in another language might use a heap. Since this algorithm don't actually use the heap INSERT operation (the activities are only sorted once), an implementation in another language would actually use an array – shown below."
   ]
  },
  {
   "cell_type": "code",
   "execution_count": 6,
   "metadata": {
    "collapsed": false,
    "scrolled": true
   },
   "outputs": [
    {
     "data": {
      "text/plain": [
       "[Activity(start=1, end=4), Activity(start=4, end=7), Activity(start=8, end=11)]"
      ]
     },
     "execution_count": 6,
     "metadata": {},
     "output_type": "execute_result"
    }
   ],
   "source": [
    "def greedy_activity_selection(activities):\n",
    "    candidates = sorted(activities, key=lambda a:a.end)\n",
    "    solution = []\n",
    "    earliest_possible_start = float('-inf')\n",
    "    while True:\n",
    "        if not candidates:\n",
    "            break\n",
    "        best_candidate = candidates.pop(0)\n",
    "        if best_candidate.start >= earliest_possible_start:\n",
    "            solution.append(best_candidate)\n",
    "            earliest_possible_start = best_candidate.end\n",
    "    return solution\n",
    "\n",
    "greedy_activity_selection(activities)"
   ]
  },
  {
   "cell_type": "markdown",
   "metadata": {},
   "source": [
    "Now that the `break` is at the top of the loop body, it can be promoted into the loop test:"
   ]
  },
  {
   "cell_type": "code",
   "execution_count": 7,
   "metadata": {
    "collapsed": false,
    "scrolled": true
   },
   "outputs": [
    {
     "data": {
      "text/plain": [
       "[Activity(start=1, end=4), Activity(start=4, end=7), Activity(start=8, end=11)]"
      ]
     },
     "execution_count": 7,
     "metadata": {},
     "output_type": "execute_result"
    }
   ],
   "source": [
    "def greedy_activity_selection(activities):\n",
    "    candidates = sorted(activities, key=lambda a:a.end)\n",
    "    solution = []\n",
    "    earliest_possible_start = float('-inf')\n",
    "    while candidates:\n",
    "        best_candidate = candidates.pop(0)\n",
    "        if best_candidate.start >= earliest_possible_start:\n",
    "            solution.append(best_candidate)\n",
    "            earliest_possible_start = best_candidate.end\n",
    "    return solution\n",
    "    \n",
    "greedy_activity_selection(activities)"
   ]
  },
  {
   "cell_type": "markdown",
   "metadata": {},
   "source": [
    "The first candidate is always selected sorted, so we can unwind that part of the loop instead of using infinity."
   ]
  },
  {
   "cell_type": "code",
   "execution_count": 8,
   "metadata": {
    "collapsed": false,
    "scrolled": true
   },
   "outputs": [
    {
     "data": {
      "text/plain": [
       "[Activity(start=1, end=4), Activity(start=4, end=7), Activity(start=8, end=11)]"
      ]
     },
     "execution_count": 8,
     "metadata": {},
     "output_type": "execute_result"
    }
   ],
   "source": [
    "def greedy_activity_selection(activities):\n",
    "    candidates = sorted(activities, key=lambda a:a.end)\n",
    "    solution = []\n",
    "    best_candidate = candidates.pop(0)\n",
    "    solution = [best_candidate]\n",
    "    earliest_possible_start = best_candidate.end\n",
    "    while candidates:\n",
    "        best_candidate = candidates.pop(0)\n",
    "        if best_candidate.start >= earliest_possible_start:\n",
    "            solution.append(best_candidate)\n",
    "            earliest_possible_start = best_candidate.end\n",
    "    return solution\n",
    "    \n",
    "greedy_activity_selection(activities)"
   ]
  },
  {
   "cell_type": "markdown",
   "metadata": {},
   "source": [
    "`earliest_possible_start` is just the end time of the last activity in the solution set. We don't need a separate variable to track it. (Whether this is a performance win, loss, or neutral depends on your compiler or interpreter.)"
   ]
  },
  {
   "cell_type": "code",
   "execution_count": 9,
   "metadata": {
    "collapsed": false,
    "scrolled": true
   },
   "outputs": [
    {
     "data": {
      "text/plain": [
       "[Activity(start=1, end=4), Activity(start=4, end=7), Activity(start=8, end=11)]"
      ]
     },
     "execution_count": 9,
     "metadata": {},
     "output_type": "execute_result"
    }
   ],
   "source": [
    "def greedy_activity_selection(activities):\n",
    "    candidates = sorted(activities, key=lambda a:a.end)\n",
    "    solution = [candidates.pop(0)]\n",
    "    while candidates:\n",
    "        best_candidate = candidates.pop(0)\n",
    "        if best_candidate.start >= solution[-1].end:\n",
    "            solution.append(best_candidate)\n",
    "    return solution\n",
    "    \n",
    "greedy_activity_selection(activities)"
   ]
  },
  {
   "cell_type": "markdown",
   "metadata": {},
   "source": [
    "The following implementation iterates over a sorted array, instead of popping elements from our list-used-as-heap. It looks more like a standard textbook solution."
   ]
  },
  {
   "cell_type": "code",
   "execution_count": 10,
   "metadata": {
    "collapsed": false
   },
   "outputs": [
    {
     "data": {
      "text/plain": [
       "[Activity(start=1, end=4), Activity(start=4, end=7), Activity(start=8, end=11)]"
      ]
     },
     "execution_count": 10,
     "metadata": {},
     "output_type": "execute_result"
    }
   ],
   "source": [
    "def greedy_activity_selection(activities):\n",
    "    sorted_activities = sorted(activities, key=lambda a:a.end)\n",
    "    solution = [sorted_activities[0]]\n",
    "    for candidate in sorted_activities[1:]:\n",
    "        if candidate.start >= solution[-1].end:\n",
    "            solution.append(candidate)\n",
    "    return solution\n",
    "    \n",
    "greedy_activity_selection(activities)"
   ]
  },
  {
   "cell_type": "markdown",
   "metadata": {},
   "source": [
    "For greater similarity to a textbook solution, use an iteration index instead of iterating directly over the array elements:"
   ]
  },
  {
   "cell_type": "code",
   "execution_count": 11,
   "metadata": {
    "collapsed": false
   },
   "outputs": [
    {
     "data": {
      "text/plain": [
       "[Activity(start=1, end=4), Activity(start=4, end=7), Activity(start=8, end=11)]"
      ]
     },
     "execution_count": 11,
     "metadata": {},
     "output_type": "execute_result"
    }
   ],
   "source": [
    "def greedy_activity_selection(activities):\n",
    "    sorted_activities = sorted(activities, key=lambda a:a.end)\n",
    "    solution = [sorted_activities[0]]\n",
    "    for i in range(1, len(sorted_activities)):\n",
    "        candidate = sorted_activities[i]\n",
    "        if candidate.start >= solution[-1].end:\n",
    "            solution.append(candidate)\n",
    "    return solution\n",
    "    \n",
    "greedy_activity_selection(activities)"
   ]
  },
  {
   "cell_type": "markdown",
   "metadata": {},
   "source": [
    "Now we can do some analysis. `sorted` is $O(n \\log n)$$^1$, and is called once. All the other operations – `append`, `list[i]`, `>=` for small integers – are $O(1)$. There's on loop, whose body consists of $O(1)$ operations. The complexity order of `greedy_activity_selection` is therefore $O(n \\log n + n \\cdot 1) = O(n \\log n)$.\n",
    "\n",
    "$^1$ You know this because a library function in a mature language will generally use an efficient algorithms. Or, because you found the [time complexity page](https://wiki.python.org/moin/TimeComplexity) of the Python wiki."
   ]
  },
  {
   "cell_type": "markdown",
   "metadata": {},
   "source": [
    "## II. Weighted activity selection – dynamic programming"
   ]
  },
  {
   "cell_type": "markdown",
   "metadata": {},
   "source": [
    "The *weighted* activity selection algorithm adds a weight to each activity.\n",
    "\n",
    "The optimal selection is the set of compatible activities that sum to the greatest weight.\n",
    "\n",
    "[The (un-weighted) activity selection problem in the previous section is an instance of the weighted problem, where all the activities have the same weight.]\n",
    "\n",
    "This section shows the developent and refinement of a bottom-up dynamic programming algorithm.\n",
    "\n",
    "The first version doesn't take weights into account, and simply returns the measure of the best selection; it doesn't yet report the activities in the selection."
   ]
  },
  {
   "cell_type": "code",
   "execution_count": 12,
   "metadata": {
    "collapsed": false
   },
   "outputs": [
    {
     "data": {
      "text/plain": [
       "3"
      ]
     },
     "execution_count": 12,
     "metadata": {},
     "output_type": "execute_result"
    }
   ],
   "source": [
    "# `bisect(lst, x)` gives the the greatest index i of sorted list lst such that all x < all elements lst[:i]\n",
    "from bisect import bisect\n",
    "from itertools import islice, dropwhile\n",
    "\n",
    "def dynamic_activity_selection(activities):\n",
    "    activity_end_times = sorted(set(activity.end for activity in activities))\n",
    "    # scores[i] holds the measure of the best selection whose activities end before activity_end_times[i + 1].\n",
    "    # in class, I started `scores` at m[-1]. here, it starts at m[0], so that it fits in an array or list.\n",
    "    scores = [0] * (1 + len(activity_end_times))\n",
    "    for activity in sorted(activities, key=lambda a:a.end):\n",
    "        start_measure_index = bisect(activity_end_times, activity.start)\n",
    "        end_measure_index = bisect(activity_end_times, activity.end)\n",
    "        # There are two candidate solutions (corresponding to two subproblems): with and without the current activity.\n",
    "        # The measure *without* the current activity is the same as the measure at the previously computed end time.\n",
    "        # The measure *with* the current activity is the the measure at the end time of the most recent activity\n",
    "        # *that is compatible with the current activity*, plus the weight of the current activity.\n",
    "        #\n",
    "        # Since a previously considered candidate could share the same end time, consider the previous value at\n",
    "        # this position in the candidate set too. Initializing `scores[*]` to 0 insures that it will always be\n",
    "        # updated (as long as the weights, here 1, are positive -- otherwise, `scores[*]` should be initialized\n",
    "        # to -infinity.)\n",
    "        score_without_activity = scores[end_measure_index - 1]\n",
    "        score_with_activity = scores[start_measure_index] + 1\n",
    "        best_measure = max(scores[end_measure_index], score_without_activity, score_with_activity)\n",
    "        scores[end_measure_index] = best_measure\n",
    "    return scores[-1]\n",
    "\n",
    "dynamic_activity_selection(activities)"
   ]
  },
  {
   "cell_type": "markdown",
   "metadata": {
    "collapsed": false
   },
   "source": [
    "To report the activities in the selection, record which solution was selected. This involves inlining the functionality of `max`, in order to record additional information based on which of its arguments is selected."
   ]
  },
  {
   "cell_type": "code",
   "execution_count": 13,
   "metadata": {
    "collapsed": false
   },
   "outputs": [
    {
     "name": "stdout",
     "output_type": "stream",
     "text": [
      "Activity(start=8, end=11)\n",
      "Activity(start=4, end=7)\n",
      "Activity(start=1, end=4)\n"
     ]
    }
   ],
   "source": [
    "def dynamic_activity_selection(activities):\n",
    "    activity_end_times = sorted(set(activity.end for activity in activities))\n",
    "    scores = [0] * (1 + len(activity_end_times))\n",
    "    # the latest activity in the optimal solution whose activities end at activity_end_times[i + 1]\n",
    "    selected_activities = [None] * (1 + len(activity_end_times))\n",
    "    for activity in sorted(activities, key=lambda a:a.end):\n",
    "        start_measure_index = bisect(activity_end_times, activity.start)\n",
    "        end_measure_index = bisect(activity_end_times, activity.end)\n",
    "        score_without_activity = scores[end_measure_index - 1]\n",
    "        score_with_activity = scores[start_measure_index] + 1\n",
    "        if score_without_activity > scores[end_measure_index]:\n",
    "            scores[end_measure_index] = score_without_activity\n",
    "            selected_activities[end_measure_index] = selected_activities[end_measure_index - 1]\n",
    "        if score_with_activity > scores[end_measure_index]:\n",
    "            scores[end_measure_index] = score_with_activity\n",
    "            selected_activities[end_measure_index] = activity\n",
    "\n",
    "    # print the results\n",
    "    activity = selected_activities[-1]\n",
    "    while activity:\n",
    "        print(activity)\n",
    "        activity = selected_activities[bisect(activity_end_times, activity.start)]\n",
    "\n",
    "dynamic_activity_selection(activities)"
   ]
  },
  {
   "cell_type": "markdown",
   "metadata": {},
   "source": [
    "We don't actually want to print the results, we want to return them.\n",
    "\n",
    "Also, this algorithm collects them from last to first; we'll reverse them into the order that they were collected.\n",
    "\n",
    "Since the results are a set, this isn't actually important. But this demonstrates a couple of common properties of dynamic algorithms:\n",
    "\n",
    "* The optiimal solution ends up at the end of the table.\n",
    "* To reconstruct the actual solution, instead of just its score, walk backwards from the end of the table.\n",
    "* If the solution is a path or list, this will produce it in reverse order. The implementation can either reverse the solution once it is accumulated, or solve a backwards version of the problem so that the accumulated solution is forwards. (In this case, an implementation that reversed the roles of `start` and `end` would yield activities in order from earliest to latest, without additional work.)"
   ]
  },
  {
   "cell_type": "code",
   "execution_count": 14,
   "metadata": {
    "collapsed": false
   },
   "outputs": [
    {
     "data": {
      "text/plain": [
       "[Activity(start=1, end=4), Activity(start=4, end=7), Activity(start=8, end=11)]"
      ]
     },
     "execution_count": 14,
     "metadata": {},
     "output_type": "execute_result"
    }
   ],
   "source": [
    "def dynamic_activity_selection(activities):\n",
    "    activity_end_times = sorted(set(activity.end for activity in activities))\n",
    "    scores = [0] * (1 + len(activity_end_times))\n",
    "    # the latest activity in the optimal solution whose activities end at activity_end_times[i + 1]\n",
    "    selected_activities = [None] * (1 + len(activity_end_times))\n",
    "    for activity in sorted(activities, key=lambda a:a.end):\n",
    "        start_measure_index = bisect(activity_end_times, activity.start)\n",
    "        end_measure_index = bisect(activity_end_times, activity.end)\n",
    "        score_without_activity = scores[end_measure_index - 1]\n",
    "        score_with_activity = scores[start_measure_index] + 1\n",
    "        if score_without_activity > scores[end_measure_index]:\n",
    "            scores[end_measure_index] = score_without_activity\n",
    "            selected_activities[end_measure_index] = selected_activities[end_measure_index - 1]\n",
    "        if score_with_activity > scores[end_measure_index]:\n",
    "            scores[end_measure_index] = score_with_activity\n",
    "            selected_activities[end_measure_index] = activity\n",
    "\n",
    "    # accumulate the results\n",
    "    solution = []\n",
    "    activity = selected_activities[-1]\n",
    "    while activity:\n",
    "        solution.append(activity)  # <- replaces print\n",
    "        activity = selected_activities[bisect(activity_end_times, activity.start)]\n",
    "    solution.reverse()\n",
    "    return solution\n",
    "\n",
    "dynamic_activity_selection(activities)"
   ]
  },
  {
   "cell_type": "markdown",
   "metadata": {},
   "source": [
    "The current algorithm indexes `scores` and `selected_activities` by activity end time, so that each entry can accumulate the best score of all the candidate solutions (any activity that ends at that time; or, no activity).\n",
    "\n",
    "In this particular problem, this isn't necessary. We can partial solutions by the index of the (sorted) activity, instead. If activities $A_i$ and $B_j$ end at the same time, and `scores[i]` includes the score for $A_i$ (because including $A_i$ accumulated a greater score than excluding it), then `scores[j]` will be set to the best of `scores[i]` and the score from adding $B_j$ to a set that excludes $A_i$.\n",
    "\n",
    "This strategy makes for larger arrays (proportionally to the number of activities, rather than the number of end times), but simpler logic."
   ]
  },
  {
   "cell_type": "code",
   "execution_count": 15,
   "metadata": {
    "collapsed": false
   },
   "outputs": [
    {
     "data": {
      "text/plain": [
       "[Activity(start=3, end=8), Activity(start=8, end=11)]"
      ]
     },
     "execution_count": 15,
     "metadata": {},
     "output_type": "execute_result"
    }
   ],
   "source": [
    "def dynamic_activity_selection(activities):\n",
    "    activity_end_times = sorted(activity.end for activity in activities)  # <-- now sorts a list instead of a set\n",
    "    scores = [0] * (1 + len(activity_end_times))\n",
    "    # the latest activity in the optimal solution whose activities end at activity_end_times[i + 1]\n",
    "    selected_activities = [None] * (1 + len(activity_end_times))\n",
    "    for activity in sorted(activities, key=lambda a:a.end):\n",
    "        start_measure_index = bisect(activity_end_times, activity.start)\n",
    "        end_measure_index = bisect(activity_end_times, activity.end)\n",
    "        score_without_activity = scores[end_measure_index - 1]\n",
    "        score_with_activity = scores[start_measure_index] + 1\n",
    "        # print(end_measure_index)\n",
    "        if score_without_activity > scores[end_measure_index]:\n",
    "            scores[end_measure_index] = score_without_activity\n",
    "            selected_activities[end_measure_index] = selected_activities[end_measure_index - 1]\n",
    "        if score_with_activity > scores[end_measure_index]:\n",
    "            scores[end_measure_index] = scores[end_measure_index]\n",
    "            selected_activities[end_measure_index] = activity\n",
    "\n",
    "    # accumulate the results\n",
    "    solution = []\n",
    "    activity = selected_activities[-1]\n",
    "    while activity:\n",
    "        solution.append(activity)  # <- replaces print\n",
    "        activity = selected_activities[bisect(activity_end_times, activity.start)]\n",
    "    solution.reverse()\n",
    "    return solution\n",
    "\n",
    "dynamic_activity_selection(activities)"
   ]
  },
  {
   "cell_type": "markdown",
   "metadata": {},
   "source": [
    "`end_measure_index` now strictly increments over the course of the loop (as uncommenting the print statement above will show), so we can do this instead of calling `bisect` to find it each time:"
   ]
  },
  {
   "cell_type": "code",
   "execution_count": 16,
   "metadata": {
    "collapsed": false
   },
   "outputs": [
    {
     "data": {
      "text/plain": [
       "[Activity(start=1, end=4), Activity(start=4, end=7), Activity(start=8, end=11)]"
      ]
     },
     "execution_count": 16,
     "metadata": {},
     "output_type": "execute_result"
    }
   ],
   "source": [
    "def dynamic_activity_selection(activities):\n",
    "    activity_end_times = sorted(activity.end for activity in activities)  # <-- now sorts a list instead of a set\n",
    "    scores = [0] * (1 + len(activity_end_times))\n",
    "    # the latest activity in the optimal solution whose activities end at activity_end_times[i + 1]\n",
    "    selected_activities = [None] * (1 + len(activity_end_times))\n",
    "    end_measure_index = 0\n",
    "    for activity in sorted(activities, key=lambda a:a.end):\n",
    "        start_measure_index = bisect(activity_end_times, activity.start)\n",
    "        end_measure_index += 1  # <- replaces call to bisect\n",
    "        score_without_activity = scores[end_measure_index - 1]\n",
    "        score_with_activity = scores[start_measure_index] + 1\n",
    "        if score_without_activity > score_with_activity:\n",
    "            scores[end_measure_index] = score_without_activity\n",
    "            selected_activities[end_measure_index] = selected_activities[end_measure_index - 1]\n",
    "        else:\n",
    "            scores[end_measure_index] = score_with_activity\n",
    "            selected_activities[end_measure_index] = activity\n",
    "\n",
    "    # accumulate the results\n",
    "    solution = []\n",
    "    activity = selected_activities[-1]\n",
    "    while activity:\n",
    "        solution.append(activity)  # <- replaces print\n",
    "        activity = selected_activities[bisect(activity_end_times, activity.start)]\n",
    "    solution.reverse()\n",
    "    return solution\n",
    "\n",
    "dynamic_activity_selection(activities)"
   ]
  },
  {
   "cell_type": "markdown",
   "metadata": {},
   "source": [
    "Or replace the `scores` and `selected_activities` arrays by lists, and ditch `end_measure_index` entirely:"
   ]
  },
  {
   "cell_type": "code",
   "execution_count": 17,
   "metadata": {
    "collapsed": false
   },
   "outputs": [
    {
     "data": {
      "text/plain": [
       "[Activity(start=1, end=4), Activity(start=4, end=7), Activity(start=8, end=11)]"
      ]
     },
     "execution_count": 17,
     "metadata": {},
     "output_type": "execute_result"
    }
   ],
   "source": [
    "def dynamic_activity_selection(activities):\n",
    "    activity_end_times = sorted(activity.end for activity in activities)  # <-- now sorts a list instead of a set\n",
    "    scores = [0]\n",
    "    # the latest activity in the optimal solution whose activities end at activity_end_times[i + 1]\n",
    "    selected_activities = [None]\n",
    "    for activity in sorted(activities, key=lambda a:a.end):\n",
    "        start_measure_index = bisect(activity_end_times, activity.start)\n",
    "        score_without_activity = scores[-1]\n",
    "        score_with_activity = scores[start_measure_index] + 1\n",
    "        if score_without_activity > score_with_activity:\n",
    "            scores.append(score_without_activity)\n",
    "            selected_activities.append(selected_activities[-1])\n",
    "        else:\n",
    "            scores.append(score_with_activity)\n",
    "            selected_activities.append(activity)\n",
    "\n",
    "    # accumulate the results\n",
    "    solution = []\n",
    "    activity = selected_activities[-1]\n",
    "    while activity:\n",
    "        solution.append(activity)  # <- replaces print\n",
    "        activity = selected_activities[bisect(activity_end_times, activity.start)]\n",
    "    solution.reverse()\n",
    "    return solution\n",
    "\n",
    "dynamic_activity_selection(activities)"
   ]
  },
  {
   "cell_type": "markdown",
   "metadata": {},
   "source": [
    "Adding activity weights requires replacing the `1` by an activity weight. Here, we'll just use the duration of the activity. This optimizes for the greatest amount of scheduled time, instead of the greatest number of activities."
   ]
  },
  {
   "cell_type": "code",
   "execution_count": 18,
   "metadata": {
    "collapsed": false
   },
   "outputs": [
    {
     "data": {
      "text/plain": [
       "[Activity(start=0, end=6), Activity(start=6, end=10)]"
      ]
     },
     "execution_count": 18,
     "metadata": {},
     "output_type": "execute_result"
    }
   ],
   "source": [
    "def dynamic_activity_selection(activities):\n",
    "    activity_end_times = sorted(activity.end for activity in activities)  # <-- now sorts a list instead of a set\n",
    "    scores = [0]\n",
    "    # the latest activity in the optimal solution whose activities end at activity_end_times[i + 1]\n",
    "    selected_activities = [None]\n",
    "    for activity in sorted(activities, key=lambda a:a.end):\n",
    "        start_measure_index = bisect(activity_end_times, activity.start)\n",
    "        score_without_activity = scores[-1]\n",
    "        score_with_activity = scores[start_measure_index] + (activity.end - activity.start)\n",
    "        if score_without_activity > score_with_activity:\n",
    "            scores.append(score_without_activity)\n",
    "            selected_activities.append(selected_activities[-1])\n",
    "        else:\n",
    "            scores.append(score_with_activity)\n",
    "            selected_activities.append(activity)\n",
    "\n",
    "    # accumulate the results\n",
    "    solution = []\n",
    "    activity = selected_activities[-1]\n",
    "    while activity:\n",
    "        solution.append(activity)  # <- replaces print\n",
    "        activity = selected_activities[bisect(activity_end_times, activity.start)]\n",
    "    solution.reverse()\n",
    "    return solution\n",
    "\n",
    "dynamic_activity_selection(activities)"
   ]
  },
  {
   "cell_type": "markdown",
   "metadata": {},
   "source": [
    "The algorithm is $O(n \\log n)$. First, the calls to `sorted` outside the loop are each $O(n \\log n)$. (We could combine those into a single sort; see below.) Second, the algorithm iterates over all $n$ activities, and calls `bisect` ($O(\\log n)$) within each iteration, for another term of $O(n \\log n)$.\n",
    "\n",
    "We can (and probably would) eliminate the call to `bisect` inside the loop. This doesn't affect the asymptotic complexity, but it does affect the constant terms."
   ]
  }
 ],
 "metadata": {
  "anaconda-cloud": {},
  "kernelspec": {
   "display_name": "Python [Root]",
   "language": "python",
   "name": "Python [Root]"
  },
  "language_info": {
   "codemirror_mode": {
    "name": "ipython",
    "version": 3
   },
   "file_extension": ".py",
   "mimetype": "text/x-python",
   "name": "python",
   "nbconvert_exporter": "python",
   "pygments_lexer": "ipython3",
   "version": "3.5.2"
  }
 },
 "nbformat": 4,
 "nbformat_minor": 0
}
