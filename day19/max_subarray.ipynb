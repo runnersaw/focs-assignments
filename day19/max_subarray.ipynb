{
 "cells": [
  {
   "cell_type": "code",
   "execution_count": null,
   "metadata": {
    "collapsed": true
   },
   "outputs": [],
   "source": [
    "def max_subarray(xs):\n",
    "    max_ending_here = max_so_far = 0\n",
    "    for x in xs:\n",
    "        max_ending_here = max(0, max_ending_here + x)\n",
    "        max_so_far = max(max_so_far, max_ending_here)\n",
    "    return max_so_far"
   ]
  },
  {
   "cell_type": "code",
   "execution_count": 9,
   "metadata": {
    "collapsed": false
   },
   "outputs": [
    {
     "name": "stdout",
     "output_type": "stream",
     "text": [
      "max(0, -2)\n",
      "max(0, 0)\n",
      "max(0, 1)\n",
      "*max(0, 1)\n",
      "*max(0, -2)\n",
      "max(1, 0)\n",
      "max(0, 4)\n",
      "max(1, 4)\n",
      "max(0, 3)\n",
      "max(4, 3)\n",
      "max(0, 5)\n",
      "max(4, 5)\n",
      "max(0, 6)\n",
      "max(5, 6)\n",
      "*max(0, 1)\n",
      "max(6, 1)\n",
      "*max(0, 5)\n",
      "max(6, 5)\n",
      "6\n"
     ]
    }
   ],
   "source": [
    "memo = {}\n",
    "\n",
    "def memoized_max(a, b):\n",
    "    k= a, b\n",
    "    if k in memo:\n",
    "        print('*max{}'.format(k))\n",
    "    else:\n",
    "        print('max{}'.format(k))\n",
    "    memo[k] = memo.get(k, 0) + 1\n",
    "    return max(a, b)\n",
    "\n",
    "def max_subarray(xs):\n",
    "    max_ending_here = max_so_far = 0\n",
    "    for x in xs:\n",
    "        max_ending_here = memoized_max(0, max_ending_here + x)\n",
    "        max_so_far = memoized_max(max_so_far, max_ending_here)\n",
    "    return max_so_far\n",
    "\n",
    "print(max_subarray([-2, 1, -3, 4, -1, 2, 1, -5, 4]))"
   ]
  },
  {
   "cell_type": "code",
   "execution_count": 22,
   "metadata": {
    "collapsed": false
   },
   "outputs": [],
   "source": [
    "def binary_search_array_helper(x, xs, left, right):\n",
    "    if left == right: return None\n",
    "    middle = int((left + right) / 2)\n",
    "    if x < xs[middle] and right - left > 1:\n",
    "        return binary_search_array_helper(x, xs, left, middle)\n",
    "    elif xs[middle] < x and right - left > 1:\n",
    "        return binary_search_array_helper(x, xs, middle, right)\n",
    "    elif x == xs[middle]:\n",
    "        return middle\n",
    "\n",
    "def binary_search_array(x, xs):\n",
    "    return binary_search_array_helper(x, xs, 0, len(xs))\n",
    "\n",
    "binary_search_array(3, [1, 3, 4, 6, 7, 8, 10, 13, 14])\n",
    "binary_search_array(3, [1])"
   ]
  },
  {
   "cell_type": "code",
   "execution_count": 13,
   "metadata": {
    "collapsed": false
   },
   "outputs": [
    {
     "data": {
      "text/plain": [
       "1"
      ]
     },
     "execution_count": 13,
     "metadata": {},
     "output_type": "execute_result"
    }
   ],
   "source": [
    "def binary_search_array_helper(x, xs, offset):\n",
    "    if not xs: return None\n",
    "    middle = int(len(xs) / 2)\n",
    "    if x < xs[middle]:\n",
    "        return binary_search_array_helper(x, xs[:middle], offset)\n",
    "    elif xs[middle] < x:\n",
    "        return binary_search_array_helper(x, xs[middle:], offset + middle)\n",
    "    else:\n",
    "        return middle\n",
    "\n",
    "def binary_search_array(x, xs):\n",
    "    return binary_search_array_helper(x, xs, 0)\n",
    "\n",
    "binary_search_array(3, [1, 3, 4, 6, 7, 8, 10, 13, 14])"
   ]
  }
 ],
 "metadata": {
  "anaconda-cloud": {},
  "kernelspec": {
   "display_name": "Python [Root]",
   "language": "python",
   "name": "Python [Root]"
  },
  "language_info": {
   "codemirror_mode": {
    "name": "ipython",
    "version": 3
   },
   "file_extension": ".py",
   "mimetype": "text/x-python",
   "name": "python",
   "nbconvert_exporter": "python",
   "pygments_lexer": "ipython3",
   "version": "3.5.2"
  }
 },
 "nbformat": 4,
 "nbformat_minor": 0
}
